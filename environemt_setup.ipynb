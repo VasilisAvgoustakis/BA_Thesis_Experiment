{
 "cells": [
  {
   "cell_type": "markdown",
   "metadata": {},
   "source": [
    "## Ensure Environemt is setup correctly\n",
    "\n",
    "### Target last compatible setup\n",
    "NVIDIA Driver Version: 535.161.08  \n",
    "NCCL Version:  (2, 19, 3)  \n",
    "Python Version: 3.10.12  \n",
    "PyTorch + Cuda Version:  2.2.2+cu121  "
   ]
  },
  {
   "cell_type": "code",
   "execution_count": 7,
   "metadata": {},
   "outputs": [
    {
     "name": "stdout",
     "output_type": "stream",
     "text": [
      "NVIDIA Driver Version: 535.161.08\n",
      "535.161.08\n",
      "NCCL Version:  (2, 19, 3)\n",
      "Python Version: 3.10.12\n",
      "PyTorch + Cuda Version:  2.2.2+cu121\n"
     ]
    }
   ],
   "source": [
    "import subprocess\n",
    "import torch\n",
    "import platform\n",
    "import fairseq\n",
    "\n",
    "def get_nvidia_driver_version():\n",
    "    try:\n",
    "        result = subprocess.run(['nvidia-smi', '--query-gpu=driver_version', '--format=csv,noheader'], capture_output=True, text=True)\n",
    "        driver_version = result.stdout.strip()\n",
    "        return driver_version\n",
    "    except Exception as e:\n",
    "        print(\"Error:\", e)\n",
    "        return None\n",
    "\n",
    "# Get and print NVIDIA driver version\n",
    "nvidia_driver_version = get_nvidia_driver_version()\n",
    "if nvidia_driver_version:\n",
    "    print(\"NVIDIA Driver Version:\", nvidia_driver_version)\n",
    "else:\n",
    "    print(\"Failed to retrieve NVIDIA driver version.\")\n",
    "\n",
    "\n",
    "print(\"NCCL Version: \", torch.cuda.nccl.version())\n",
    "\n",
    "python_version = platform.python_version()\n",
    "print(\"Python Version:\", python_version)\n",
    "\n",
    "\n",
    "print(\"PyTorch + Cuda Version: \", torch.__version__)"
   ]
  }
 ],
 "metadata": {
  "kernelspec": {
   "display_name": ".venv",
   "language": "python",
   "name": "python3"
  },
  "language_info": {
   "codemirror_mode": {
    "name": "ipython",
    "version": 3
   },
   "file_extension": ".py",
   "mimetype": "text/x-python",
   "name": "python",
   "nbconvert_exporter": "python",
   "pygments_lexer": "ipython3",
   "version": "3.10.12"
  }
 },
 "nbformat": 4,
 "nbformat_minor": 2
}
