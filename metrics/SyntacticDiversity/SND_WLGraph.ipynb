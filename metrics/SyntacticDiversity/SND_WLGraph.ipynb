{
 "cells": [
  {
   "cell_type": "code",
   "execution_count": 10,
   "metadata": {},
   "outputs": [],
   "source": [
    "import spacy\n",
    "from grakel import GraphKernel, Graph\n",
    "import numpy as np\n"
   ]
  },
  {
   "cell_type": "code",
   "execution_count": 11,
   "metadata": {},
   "outputs": [],
   "source": [
    "\n",
    "# Load a spaCy model for dependency parsing\n",
    "nlp = spacy.load(\"en_core_web_sm\")"
   ]
  },
  {
   "cell_type": "code",
   "execution_count": 12,
   "metadata": {},
   "outputs": [],
   "source": [
    "\n",
    "def construct_dependency_graphs(sentences):\n",
    "    graphs = []\n",
    "    for sentence in sentences:\n",
    "        doc = nlp(sentence)\n",
    "        adjacency_list = {}\n",
    "        node_labels = {}  # A dictionary to store the labels of nodes\n",
    "        \n",
    "        for token in doc:\n",
    "            # We'll use token index as the node identifier\n",
    "            adjacency_list[token.i] = [child.i for child in token.children]\n",
    "            node_labels[token.i] = token.lemma_  # Using lemma as a simple node label\n",
    "\n",
    "        # Create a Grakel Graph with node labels\n",
    "        g = Graph(adjacency_list, node_labels=node_labels, graph_format='adjacency')\n",
    "        graphs.append(g)\n",
    "    return graphs\n",
    "\n",
    "\n",
    "\n",
    "def calculate_syntactic_diversity(graphs, measure='wl'):\n",
    "    kernel = GraphKernel(kernel=[{\"name\": \"weisfeiler_lehman\", \"n_iter\": 5}, {\"name\": \"subtree_wl\"}], normalize=True)\n",
    "    # Compute the kernel matrix\n",
    "    K = kernel.fit_transform(graphs)\n",
    "    \n",
    "    if measure == 'wl':  # Weisfeiler-Lehman kernel measure\n",
    "        # Use kernel matrix to calculate diversity; more similar structures will have higher kernel values\n",
    "        diversity_scores = 1 - np.mean(K, axis=1)  # Diversity as 1 - average similarity\n",
    "        syntactic_diversity = np.mean(diversity_scores)\n",
    "    else:\n",
    "        raise ValueError(\"Unsupported measure for syntactic diversity\")\n",
    "    return syntactic_diversity\n"
   ]
  },
  {
   "cell_type": "code",
   "execution_count": 13,
   "metadata": {},
   "outputs": [
    {
     "name": "stdout",
     "output_type": "stream",
     "text": [
      "['Once upon a time, in a quaint little village nestled between rolling hills and whispering forests, there lived two souls destined for each other', ' Their names were Emily and Jack', ' Emily was a lively young woman with a heart as boundless as the open sky, while Jack was a gentle soul, with eyes that held the wisdom of ages', '\\n\\nTheir paths first crossed on a sunny afternoon in the village square', ' Emily had been selling her handcrafted jewelry at the weekly market, her creations shimmering in the sunlight like fragments of a rainbow', ' Jack, a painter by trade, was captivated by her vibrant spirit and the way she seemed to breathe life into the world around her', '\\n\\nAs weeks turned into months, their chance encounters at the market grew into intentional meetings', ' They shared stories and dreams beneath the shade of an ancient oak tree, their laughter mingling with the rustle of leaves in the breeze', ' With each passing day, their bond deepened, like the roots of the tree that bore witness to their blossoming love', '\\n\\nBut as fate would have it, their love was tested by the hands of adversity', ' A sudden illness befell Emily, casting a shadow over their once bright days', ' Jack stood by her side, his unwavering presence a beacon of hope in her darkest hour', ' Together, they weathered the storm, their love emerging stronger than ever before', '\\n\\nIn the wake of adversity, Emily and Jack made a solemn vow to cherish each moment they shared together', \" They danced in the rain, their laughter mingling with the melody of nature's symphony\", \" They watched the sunrise paint the sky in hues of pink and gold, grateful for the gift of another day in each other's arms\", '\\n\\nAs the seasons turned and the years passed, Emily and Jack remained steadfast in their love', ' They grew old together, their hands intertwined like roots entwined beneath the earth', ' And when the time came for them to part, they did so knowing that their love would endure for eternity, a timeless tale whispered on the lips of the wind', '\\n\\nFor in the village nestled between rolling hills and whispering forests, their love became a legend, a testament to the enduring power of the heart', ' And though they may have left this world behind, their love lived on, an eternal flame burning bright in the hearts of those who heard their story', '']\n"
     ]
    },
    {
     "ename": "TypeError",
     "evalue": "cannot unpack non-iterable NoneType object",
     "output_type": "error",
     "traceback": [
      "\u001b[0;31m---------------------------------------------------------------------------\u001b[0m",
      "\u001b[0;31mTypeError\u001b[0m                                 Traceback (most recent call last)",
      "Cell \u001b[0;32mIn[13], line 14\u001b[0m\n\u001b[1;32m     11\u001b[0m \u001b[38;5;28;01mwith\u001b[39;00m \u001b[38;5;28mopen\u001b[39m(file_path2, \u001b[38;5;124m'\u001b[39m\u001b[38;5;124mr\u001b[39m\u001b[38;5;124m'\u001b[39m, encoding\u001b[38;5;241m=\u001b[39m\u001b[38;5;124m\"\u001b[39m\u001b[38;5;124mutf-8\u001b[39m\u001b[38;5;124m\"\u001b[39m) \u001b[38;5;28;01mas\u001b[39;00m file2:\n\u001b[1;32m     12\u001b[0m     sentences2 \u001b[38;5;241m=\u001b[39m file2\u001b[38;5;241m.\u001b[39mread()\u001b[38;5;241m.\u001b[39msplit(\u001b[38;5;124m'\u001b[39m\u001b[38;5;124m.\u001b[39m\u001b[38;5;124m'\u001b[39m)\n\u001b[0;32m---> 14\u001b[0m graphs1 \u001b[38;5;241m=\u001b[39m \u001b[43mconstruct_dependency_graphs\u001b[49m\u001b[43m(\u001b[49m\u001b[43msentences1\u001b[49m\u001b[43m)\u001b[49m\n\u001b[1;32m     15\u001b[0m graphs2 \u001b[38;5;241m=\u001b[39m construct_dependency_graphs(sentences2)\n\u001b[1;32m     17\u001b[0m syntactic_diversity1 \u001b[38;5;241m=\u001b[39m calculate_syntactic_diversity(graphs1)\n",
      "Cell \u001b[0;32mIn[12], line 14\u001b[0m, in \u001b[0;36mconstruct_dependency_graphs\u001b[0;34m(sentences)\u001b[0m\n\u001b[1;32m     11\u001b[0m         node_labels[token\u001b[38;5;241m.\u001b[39mi] \u001b[38;5;241m=\u001b[39m token\u001b[38;5;241m.\u001b[39mlemma_  \u001b[38;5;66;03m# Using lemma as a simple node label\u001b[39;00m\n\u001b[1;32m     13\u001b[0m     \u001b[38;5;66;03m# Create a Grakel Graph with node labels\u001b[39;00m\n\u001b[0;32m---> 14\u001b[0m     g \u001b[38;5;241m=\u001b[39m \u001b[43mGraph\u001b[49m\u001b[43m(\u001b[49m\u001b[43madjacency_list\u001b[49m\u001b[43m,\u001b[49m\u001b[43m \u001b[49m\u001b[43mnode_labels\u001b[49m\u001b[38;5;241;43m=\u001b[39;49m\u001b[43mnode_labels\u001b[49m\u001b[43m,\u001b[49m\u001b[43m \u001b[49m\u001b[43mgraph_format\u001b[49m\u001b[38;5;241;43m=\u001b[39;49m\u001b[38;5;124;43m'\u001b[39;49m\u001b[38;5;124;43madjacency\u001b[39;49m\u001b[38;5;124;43m'\u001b[39;49m\u001b[43m)\u001b[49m\n\u001b[1;32m     15\u001b[0m     graphs\u001b[38;5;241m.\u001b[39mappend(g)\n\u001b[1;32m     16\u001b[0m \u001b[38;5;28;01mreturn\u001b[39;00m graphs\n",
      "File \u001b[0;32m~/Documents/BA_Thesis_Experiment/.venv/lib/python3.10/site-packages/grakel/graph.py:162\u001b[0m, in \u001b[0;36mGraph.__init__\u001b[0;34m(self, initialization_object, node_labels, edge_labels, graph_format, construct_labels)\u001b[0m\n\u001b[1;32m    160\u001b[0m \u001b[38;5;28mself\u001b[39m\u001b[38;5;241m.\u001b[39m_format \u001b[38;5;241m=\u001b[39m graph_format\n\u001b[1;32m    161\u001b[0m \u001b[38;5;28;01mif\u001b[39;00m (initialization_object \u001b[38;5;129;01mis\u001b[39;00m \u001b[38;5;129;01mnot\u001b[39;00m \u001b[38;5;28;01mNone\u001b[39;00m):\n\u001b[0;32m--> 162\u001b[0m     \u001b[38;5;28;43mself\u001b[39;49m\u001b[38;5;241;43m.\u001b[39;49m\u001b[43mbuild_graph\u001b[49m\u001b[43m(\u001b[49m\u001b[43minitialization_object\u001b[49m\u001b[43m,\u001b[49m\n\u001b[1;32m    163\u001b[0m \u001b[43m                     \u001b[49m\u001b[43mnode_labels\u001b[49m\u001b[43m,\u001b[49m\n\u001b[1;32m    164\u001b[0m \u001b[43m                     \u001b[49m\u001b[43medge_labels\u001b[49m\u001b[43m)\u001b[49m\n\u001b[1;32m    165\u001b[0m \u001b[38;5;28;01melif\u001b[39;00m graph_format \u001b[38;5;241m==\u001b[39m \u001b[38;5;124m\"\u001b[39m\u001b[38;5;124mauto\u001b[39m\u001b[38;5;124m\"\u001b[39m:\n\u001b[1;32m    166\u001b[0m     \u001b[38;5;28;01mraise\u001b[39;00m \u001b[38;5;167;01mValueError\u001b[39;00m(\u001b[38;5;124m'\u001b[39m\u001b[38;5;124mno initialization object \u001b[39m\u001b[38;5;124m'\u001b[39m \u001b[38;5;241m+\u001b[39m\n\u001b[1;32m    167\u001b[0m                      \u001b[38;5;124m'\u001b[39m\u001b[38;5;124m- format must not be auto\u001b[39m\u001b[38;5;124m'\u001b[39m)\n",
      "File \u001b[0;32m~/Documents/BA_Thesis_Experiment/.venv/lib/python3.10/site-packages/grakel/graph.py:235\u001b[0m, in \u001b[0;36mGraph.build_graph\u001b[0;34m(self, g, node_labels, edge_labels)\u001b[0m\n\u001b[1;32m    233\u001b[0m     \u001b[38;5;28mself\u001b[39m\u001b[38;5;241m.\u001b[39m_import_adjacency(g)\n\u001b[1;32m    234\u001b[0m \u001b[38;5;28;01melif\u001b[39;00m (case \u001b[38;5;241m==\u001b[39m \u001b[38;5;241m2\u001b[39m):\n\u001b[0;32m--> 235\u001b[0m     \u001b[38;5;28;43mself\u001b[39;49m\u001b[38;5;241;43m.\u001b[39;49m\u001b[43m_import_dictionary\u001b[49m\u001b[43m(\u001b[49m\u001b[43mg\u001b[49m\u001b[43m)\u001b[49m\n",
      "File \u001b[0;32m~/Documents/BA_Thesis_Experiment/.venv/lib/python3.10/site-packages/grakel/graph.py:1033\u001b[0m, in \u001b[0;36mGraph._import_dictionary\u001b[0;34m(self, edge_dictionary, init)\u001b[0m\n\u001b[1;32m   1031\u001b[0m \u001b[38;5;66;03m# Create and store the adjacency matrix\u001b[39;00m\n\u001b[1;32m   1032\u001b[0m \u001b[38;5;28;01mif\u001b[39;00m \u001b[38;5;28mself\u001b[39m\u001b[38;5;241m.\u001b[39m_format \u001b[38;5;129;01min\u001b[39;00m [\u001b[38;5;124m\"\u001b[39m\u001b[38;5;124madjacency\u001b[39m\u001b[38;5;124m\"\u001b[39m, \u001b[38;5;124m\"\u001b[39m\u001b[38;5;124mall\u001b[39m\u001b[38;5;124m\"\u001b[39m]:\n\u001b[0;32m-> 1033\u001b[0m     edsamic, \u001b[38;5;28mself\u001b[39m\u001b[38;5;241m.\u001b[39mn, lov_sorted \u001b[38;5;241m=\u001b[39m \u001b[38;5;28mself\u001b[39m\u001b[38;5;241m.\u001b[39m_make_edsamic(vertices)\n\u001b[1;32m   1034\u001b[0m     \u001b[38;5;66;03m# Initialize adjacency_matrix\u001b[39;00m\n\u001b[1;32m   1035\u001b[0m     adjacency_matrix \u001b[38;5;241m=\u001b[39m np\u001b[38;5;241m.\u001b[39mzeros(shape\u001b[38;5;241m=\u001b[39m(\u001b[38;5;28mself\u001b[39m\u001b[38;5;241m.\u001b[39mn, \u001b[38;5;28mself\u001b[39m\u001b[38;5;241m.\u001b[39mn))\n",
      "\u001b[0;31mTypeError\u001b[0m: cannot unpack non-iterable NoneType object"
     ]
    }
   ],
   "source": [
    "\n",
    "\n",
    "# Example text \n",
    "#PROMPT: Generate a Story about love.\n",
    "#gpt3.5\n",
    "file_path1 = \"/home/vasi/Documents/BA_Thesis_Experiment/metrics/sample1.txt\"\n",
    "#gpt4\n",
    "file_path2 = \"/home/vasi/Documents/BA_Thesis_Experiment/metrics/sample2.txt\"\n",
    "\n",
    "with open(file_path1, 'r', encoding=\"utf-8\") as file1:\n",
    "    sentences1 = file1.read().split('.')\n",
    "    print(sentences1)\n",
    "with open(file_path2, 'r', encoding=\"utf-8\") as file2:\n",
    "    sentences2 = file2.read().split('.')\n",
    "\n",
    "graphs1 = construct_dependency_graphs(sentences1)\n",
    "graphs2 = construct_dependency_graphs(sentences2)\n",
    "\n",
    "syntactic_diversity1 = calculate_syntactic_diversity(graphs1)\n",
    "print(\"Syntactic diversity 1:\", syntactic_diversity1)\n",
    "\n",
    "syntactic_diversity2 = calculate_syntactic_diversity(graphs2)\n",
    "print(\"Syntactic diversity 2:\", syntactic_diversity2)\n"
   ]
  }
 ],
 "metadata": {
  "kernelspec": {
   "display_name": ".venv",
   "language": "python",
   "name": "python3"
  },
  "language_info": {
   "codemirror_mode": {
    "name": "ipython",
    "version": 3
   },
   "file_extension": ".py",
   "mimetype": "text/x-python",
   "name": "python",
   "nbconvert_exporter": "python",
   "pygments_lexer": "ipython3",
   "version": "3.10.12"
  }
 },
 "nbformat": 4,
 "nbformat_minor": 2
}
