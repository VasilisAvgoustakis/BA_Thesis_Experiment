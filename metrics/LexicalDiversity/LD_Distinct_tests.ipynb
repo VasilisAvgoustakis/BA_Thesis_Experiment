{
 "cells": [
  {
   "cell_type": "code",
   "execution_count": 1,
   "metadata": {},
   "outputs": [],
   "source": [
    "def calculate_distinct_n(text, n=2):\n",
    "    \"\"\"\n",
    "    Calculate the Distinct-n metric for a given text. This metric evaluates the diversity of generated text \n",
    "    by counting the number of unique sequences of n words (n-grams).\n",
    "\n",
    "    Parameters:\n",
    "    - text (str): The text to be analyzed.\n",
    "    - n (int): The length of the n-gram (e.g., 2 for Distinct-2).\n",
    "\n",
    "    Returns:\n",
    "    - float: The Distinct-n score as the proportion of unique n-grams to the total number of n-grams.\n",
    "    \"\"\"\n",
    "    # Normalize the text to lowercase and split into words\n",
    "    tokens = text.lower().split()\n",
    "    \n",
    "    # Generate n-grams from the list of tokens\n",
    "    n_grams = [' '.join(tokens[i:i + n]) for i in range(len(tokens) - n + 1)]\n",
    "    print(\"Total n_grams: \", len(n_grams))\n",
    "    # Calculate the number of unique n-grams\n",
    "    unique_n_grams = len(set(n_grams))\n",
    "    print(\"Unique n_grams: \", unique_n_grams)\n",
    "    # Calculate the total number of n-grams\n",
    "    total_n_grams = len(n_grams)\n",
    "    \n",
    "    # Calculate the Distinct-n score\n",
    "    distinct_n_score = unique_n_grams / total_n_grams if total_n_grams > 0 else 0\n",
    "    \n",
    "    return distinct_n_score\n"
   ]
  },
  {
   "cell_type": "code",
   "execution_count": 2,
   "metadata": {},
   "outputs": [
    {
     "name": "stdout",
     "output_type": "stream",
     "text": [
      "Total n_grams:  399\n",
      "Unique n_grams:  365\n",
      "Total n_grams:  569\n",
      "Unique n_grams:  522\n",
      "Total n_grams:  398\n",
      "Unique n_grams:  387\n",
      "Total n_grams:  568\n",
      "Unique n_grams:  560\n",
      "Distinct-2, Text 1 score: 0.9147869674185464\n",
      "Distinct-2, Text 2 score: 0.9173989455184535\n",
      "Distinct-3, Text 1 score: 0.9723618090452262\n",
      "Distinct-3, Text 2 score: 0.9859154929577465\n"
     ]
    }
   ],
   "source": [
    "\n",
    "# Example text \n",
    "#PROMPT: Generate a Story about love.\n",
    "#gpt3.5\n",
    "file_path1 = \"/Users/Vas/Documents/Coding_Projects/BA_Experiment_Tests/Metrics/sample1.txt\"\n",
    "#gpt4\n",
    "file_path2 = \"/Users/Vas/Documents/Coding_Projects/BA_Experiment_Tests/Metrics/sample2.txt\"\n",
    "\n",
    "with open(file_path1, 'r', encoding=\"utf-8\") as file:\n",
    "    text1 = file.read()\n",
    "with open(file_path2, 'r', encoding=\"utf-8\") as file:\n",
    "    text2 = file.read()\n",
    "\n",
    "distinct_2_1 = calculate_distinct_n(text1, 2)  # For two-word combinations\n",
    "distinct_2_2 = calculate_distinct_n(text2, 2)  # For two-word combinations\n",
    "distinct_3_1 = calculate_distinct_n(text1, 3)  # For three-word combinations\n",
    "distinct_3_2 = calculate_distinct_n(text2, 3)  # For three-word combinations\n",
    "print(f'Distinct-2, Text 1 score: {distinct_2_1}')\n",
    "print(f'Distinct-2, Text 2 score: {distinct_2_2}')\n",
    "print(f'Distinct-3, Text 1 score: {distinct_3_1}')\n",
    "print(f'Distinct-3, Text 2 score: {distinct_3_2}')\n"
   ]
  }
 ],
 "metadata": {
  "kernelspec": {
   "display_name": ".venv",
   "language": "python",
   "name": "python3"
  },
  "language_info": {
   "codemirror_mode": {
    "name": "ipython",
    "version": 3
   },
   "file_extension": ".py",
   "mimetype": "text/x-python",
   "name": "python",
   "nbconvert_exporter": "python",
   "pygments_lexer": "ipython3",
   "version": "3.8.2"
  }
 },
 "nbformat": 4,
 "nbformat_minor": 2
}
