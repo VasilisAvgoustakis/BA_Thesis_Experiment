{
 "cells": [
  {
   "cell_type": "code",
   "execution_count": 5,
   "metadata": {},
   "outputs": [],
   "source": [
    "import spacy\n",
    "from grakel import GraphKernel\n",
    "import numpy as np\n"
   ]
  },
  {
   "cell_type": "code",
   "execution_count": 6,
   "metadata": {},
   "outputs": [],
   "source": [
    "\n",
    "# Load a spaCy model for dependency parsing\n",
    "nlp = spacy.load(\"en_core_web_sm\")"
   ]
  },
  {
   "cell_type": "code",
   "execution_count": 7,
   "metadata": {},
   "outputs": [],
   "source": [
    "\n",
    "def construct_dependency_graphs(sentences):\n",
    "    graphs = []\n",
    "    for sentence in sentences:\n",
    "        doc = nlp(sentence)\n",
    "        edges = []\n",
    "        for token in doc:\n",
    "            for child in token.children:\n",
    "                edges.append((token.i, child.i))  # Edge from parent token to child token\n",
    "        graphs.append((np.arange(len(doc)), edges))  # Nodes are simply token positions\n",
    "    return graphs\n",
    "\n",
    "\n",
    "def calculate_syntactic_diversity(graphs, measure='wl'):\n",
    "    kernel = GraphKernel(kernel=[{\"name\": \"weisfeiler_lehman\", \"n_iter\": 5}, {\"name\": \"subtree_wl\"}], normalize=True)\n",
    "    # Compute the kernel matrix\n",
    "    K = kernel.fit_transform(graphs)\n",
    "    \n",
    "    if measure == 'wl':  # Weisfeiler-Lehman kernel measure\n",
    "        # Use kernel matrix to calculate diversity; more similar structures will have higher kernel values\n",
    "        diversity_scores = 1 - np.mean(K, axis=1)  # Diversity as 1 - average similarity\n",
    "        syntactic_diversity = np.mean(diversity_scores)\n",
    "    else:\n",
    "        raise ValueError(\"Unsupported measure for syntactic diversity\")\n",
    "    \n",
    "    return syntactic_diversity\n"
   ]
  },
  {
   "cell_type": "code",
   "execution_count": 11,
   "metadata": {},
   "outputs": [
    {
     "name": "stdout",
     "output_type": "stream",
     "text": [
      "['Once upon a time, in a quaint little village nestled between rolling hills and whispering forests, there lived two souls destined for each other', ' Their names were Emily and Jack', ' Emily was a lively young woman with a heart as boundless as the open sky, while Jack was a gentle soul, with eyes that held the wisdom of ages', '\\n\\nTheir paths first crossed on a sunny afternoon in the village square', ' Emily had been selling her handcrafted jewelry at the weekly market, her creations shimmering in the sunlight like fragments of a rainbow', ' Jack, a painter by trade, was captivated by her vibrant spirit and the way she seemed to breathe life into the world around her', '\\n\\nAs weeks turned into months, their chance encounters at the market grew into intentional meetings', ' They shared stories and dreams beneath the shade of an ancient oak tree, their laughter mingling with the rustle of leaves in the breeze', ' With each passing day, their bond deepened, like the roots of the tree that bore witness to their blossoming love', '\\n\\nBut as fate would have it, their love was tested by the hands of adversity', ' A sudden illness befell Emily, casting a shadow over their once bright days', ' Jack stood by her side, his unwavering presence a beacon of hope in her darkest hour', ' Together, they weathered the storm, their love emerging stronger than ever before', '\\n\\nIn the wake of adversity, Emily and Jack made a solemn vow to cherish each moment they shared together', \" They danced in the rain, their laughter mingling with the melody of nature's symphony\", \" They watched the sunrise paint the sky in hues of pink and gold, grateful for the gift of another day in each other's arms\", '\\n\\nAs the seasons turned and the years passed, Emily and Jack remained steadfast in their love', ' They grew old together, their hands intertwined like roots entwined beneath the earth', ' And when the time came for them to part, they did so knowing that their love would endure for eternity, a timeless tale whispered on the lips of the wind', '\\n\\nFor in the village nestled between rolling hills and whispering forests, their love became a legend, a testament to the enduring power of the heart', ' And though they may have left this world behind, their love lived on, an eternal flame burning bright in the hearts of those who heard their story', '']\n"
     ]
    },
    {
     "ename": "ValueError",
     "evalue": "Unsupported input type. For more information check the documentation, concerning valid input types for graph type object.",
     "output_type": "error",
     "traceback": [
      "\u001b[0;31m---------------------------------------------------------------------------\u001b[0m",
      "\u001b[0;31mValueError\u001b[0m                                Traceback (most recent call last)",
      "Cell \u001b[0;32mIn[11], line 17\u001b[0m\n\u001b[1;32m     14\u001b[0m graphs1 \u001b[38;5;241m=\u001b[39m construct_dependency_graphs(sentences1)\n\u001b[1;32m     15\u001b[0m graphs2 \u001b[38;5;241m=\u001b[39m construct_dependency_graphs(sentences2)\n\u001b[0;32m---> 17\u001b[0m syntactic_diversity1 \u001b[38;5;241m=\u001b[39m \u001b[43mcalculate_syntactic_diversity\u001b[49m\u001b[43m(\u001b[49m\u001b[43mgraphs1\u001b[49m\u001b[43m)\u001b[49m\n\u001b[1;32m     18\u001b[0m \u001b[38;5;28mprint\u001b[39m(\u001b[38;5;124m\"\u001b[39m\u001b[38;5;124mSyntactic diversity 1:\u001b[39m\u001b[38;5;124m\"\u001b[39m, syntactic_diversity1)\n\u001b[1;32m     20\u001b[0m \u001b[38;5;66;03m# syntactic_diversity2 = calculate_syntactic_diversity(graphs2)\u001b[39;00m\n\u001b[1;32m     21\u001b[0m \u001b[38;5;66;03m# print(\"Syntactic diversity 2:\", syntactic_diversity2)\u001b[39;00m\n",
      "Cell \u001b[0;32mIn[7], line 16\u001b[0m, in \u001b[0;36mcalculate_syntactic_diversity\u001b[0;34m(graphs, measure)\u001b[0m\n\u001b[1;32m     14\u001b[0m kernel \u001b[38;5;241m=\u001b[39m GraphKernel(kernel\u001b[38;5;241m=\u001b[39m[{\u001b[38;5;124m\"\u001b[39m\u001b[38;5;124mname\u001b[39m\u001b[38;5;124m\"\u001b[39m: \u001b[38;5;124m\"\u001b[39m\u001b[38;5;124mweisfeiler_lehman\u001b[39m\u001b[38;5;124m\"\u001b[39m, \u001b[38;5;124m\"\u001b[39m\u001b[38;5;124mn_iter\u001b[39m\u001b[38;5;124m\"\u001b[39m: \u001b[38;5;241m5\u001b[39m}, {\u001b[38;5;124m\"\u001b[39m\u001b[38;5;124mname\u001b[39m\u001b[38;5;124m\"\u001b[39m: \u001b[38;5;124m\"\u001b[39m\u001b[38;5;124msubtree_wl\u001b[39m\u001b[38;5;124m\"\u001b[39m}], normalize\u001b[38;5;241m=\u001b[39m\u001b[38;5;28;01mTrue\u001b[39;00m)\n\u001b[1;32m     15\u001b[0m \u001b[38;5;66;03m# Compute the kernel matrix\u001b[39;00m\n\u001b[0;32m---> 16\u001b[0m K \u001b[38;5;241m=\u001b[39m \u001b[43mkernel\u001b[49m\u001b[38;5;241;43m.\u001b[39;49m\u001b[43mfit_transform\u001b[49m\u001b[43m(\u001b[49m\u001b[43mgraphs\u001b[49m\u001b[43m)\u001b[49m\n\u001b[1;32m     18\u001b[0m \u001b[38;5;28;01mif\u001b[39;00m measure \u001b[38;5;241m==\u001b[39m \u001b[38;5;124m'\u001b[39m\u001b[38;5;124mwl\u001b[39m\u001b[38;5;124m'\u001b[39m:  \u001b[38;5;66;03m# Weisfeiler-Lehman kernel measure\u001b[39;00m\n\u001b[1;32m     19\u001b[0m     \u001b[38;5;66;03m# Use kernel matrix to calculate diversity; more similar structures will have higher kernel values\u001b[39;00m\n\u001b[1;32m     20\u001b[0m     diversity_scores \u001b[38;5;241m=\u001b[39m \u001b[38;5;241m1\u001b[39m \u001b[38;5;241m-\u001b[39m np\u001b[38;5;241m.\u001b[39mmean(K, axis\u001b[38;5;241m=\u001b[39m\u001b[38;5;241m1\u001b[39m)  \u001b[38;5;66;03m# Diversity as 1 - average similarity\u001b[39;00m\n",
      "File \u001b[0;32m~/Documents/Coding_Projects/BA_Experiment_Tests/.venv/lib/python3.8/site-packages/sklearn/utils/_set_output.py:157\u001b[0m, in \u001b[0;36m_wrap_method_output.<locals>.wrapped\u001b[0;34m(self, X, *args, **kwargs)\u001b[0m\n\u001b[1;32m    155\u001b[0m \u001b[38;5;129m@wraps\u001b[39m(f)\n\u001b[1;32m    156\u001b[0m \u001b[38;5;28;01mdef\u001b[39;00m \u001b[38;5;21mwrapped\u001b[39m(\u001b[38;5;28mself\u001b[39m, X, \u001b[38;5;241m*\u001b[39margs, \u001b[38;5;241m*\u001b[39m\u001b[38;5;241m*\u001b[39mkwargs):\n\u001b[0;32m--> 157\u001b[0m     data_to_wrap \u001b[38;5;241m=\u001b[39m \u001b[43mf\u001b[49m\u001b[43m(\u001b[49m\u001b[38;5;28;43mself\u001b[39;49m\u001b[43m,\u001b[49m\u001b[43m \u001b[49m\u001b[43mX\u001b[49m\u001b[43m,\u001b[49m\u001b[43m \u001b[49m\u001b[38;5;241;43m*\u001b[39;49m\u001b[43margs\u001b[49m\u001b[43m,\u001b[49m\u001b[43m \u001b[49m\u001b[38;5;241;43m*\u001b[39;49m\u001b[38;5;241;43m*\u001b[39;49m\u001b[43mkwargs\u001b[49m\u001b[43m)\u001b[49m\n\u001b[1;32m    158\u001b[0m     \u001b[38;5;28;01mif\u001b[39;00m \u001b[38;5;28misinstance\u001b[39m(data_to_wrap, \u001b[38;5;28mtuple\u001b[39m):\n\u001b[1;32m    159\u001b[0m         \u001b[38;5;66;03m# only wrap the first output for cross decomposition\u001b[39;00m\n\u001b[1;32m    160\u001b[0m         return_tuple \u001b[38;5;241m=\u001b[39m (\n\u001b[1;32m    161\u001b[0m             _wrap_data_with_container(method, data_to_wrap[\u001b[38;5;241m0\u001b[39m], X, \u001b[38;5;28mself\u001b[39m),\n\u001b[1;32m    162\u001b[0m             \u001b[38;5;241m*\u001b[39mdata_to_wrap[\u001b[38;5;241m1\u001b[39m:],\n\u001b[1;32m    163\u001b[0m         )\n",
      "File \u001b[0;32m~/Documents/Coding_Projects/BA_Experiment_Tests/.venv/lib/python3.8/site-packages/grakel/graph_kernels.py:407\u001b[0m, in \u001b[0;36mGraphKernel.fit_transform\u001b[0;34m(self, X, y)\u001b[0m\n\u001b[1;32m    405\u001b[0m     K \u001b[38;5;241m=\u001b[39m \u001b[38;5;28mself\u001b[39m\u001b[38;5;241m.\u001b[39mkernel_\u001b[38;5;241m.\u001b[39mtransform(X)\u001b[38;5;241m.\u001b[39mdot(\u001b[38;5;28mself\u001b[39m\u001b[38;5;241m.\u001b[39mnystroem_normalization_\u001b[38;5;241m.\u001b[39mT)\n\u001b[1;32m    406\u001b[0m \u001b[38;5;28;01melse\u001b[39;00m:\n\u001b[0;32m--> 407\u001b[0m     K \u001b[38;5;241m=\u001b[39m \u001b[38;5;28;43mself\u001b[39;49m\u001b[38;5;241;43m.\u001b[39;49m\u001b[43mkernel_\u001b[49m\u001b[38;5;241;43m.\u001b[39;49m\u001b[43mfit_transform\u001b[49m\u001b[43m(\u001b[49m\u001b[43mX\u001b[49m\u001b[43m)\u001b[49m\n\u001b[1;32m    409\u001b[0m \u001b[38;5;28;01mreturn\u001b[39;00m K\n",
      "File \u001b[0;32m~/Documents/Coding_Projects/BA_Experiment_Tests/.venv/lib/python3.8/site-packages/sklearn/utils/_set_output.py:157\u001b[0m, in \u001b[0;36m_wrap_method_output.<locals>.wrapped\u001b[0;34m(self, X, *args, **kwargs)\u001b[0m\n\u001b[1;32m    155\u001b[0m \u001b[38;5;129m@wraps\u001b[39m(f)\n\u001b[1;32m    156\u001b[0m \u001b[38;5;28;01mdef\u001b[39;00m \u001b[38;5;21mwrapped\u001b[39m(\u001b[38;5;28mself\u001b[39m, X, \u001b[38;5;241m*\u001b[39margs, \u001b[38;5;241m*\u001b[39m\u001b[38;5;241m*\u001b[39mkwargs):\n\u001b[0;32m--> 157\u001b[0m     data_to_wrap \u001b[38;5;241m=\u001b[39m \u001b[43mf\u001b[49m\u001b[43m(\u001b[49m\u001b[38;5;28;43mself\u001b[39;49m\u001b[43m,\u001b[49m\u001b[43m \u001b[49m\u001b[43mX\u001b[49m\u001b[43m,\u001b[49m\u001b[43m \u001b[49m\u001b[38;5;241;43m*\u001b[39;49m\u001b[43margs\u001b[49m\u001b[43m,\u001b[49m\u001b[43m \u001b[49m\u001b[38;5;241;43m*\u001b[39;49m\u001b[38;5;241;43m*\u001b[39;49m\u001b[43mkwargs\u001b[49m\u001b[43m)\u001b[49m\n\u001b[1;32m    158\u001b[0m     \u001b[38;5;28;01mif\u001b[39;00m \u001b[38;5;28misinstance\u001b[39m(data_to_wrap, \u001b[38;5;28mtuple\u001b[39m):\n\u001b[1;32m    159\u001b[0m         \u001b[38;5;66;03m# only wrap the first output for cross decomposition\u001b[39;00m\n\u001b[1;32m    160\u001b[0m         return_tuple \u001b[38;5;241m=\u001b[39m (\n\u001b[1;32m    161\u001b[0m             _wrap_data_with_container(method, data_to_wrap[\u001b[38;5;241m0\u001b[39m], X, \u001b[38;5;28mself\u001b[39m),\n\u001b[1;32m    162\u001b[0m             \u001b[38;5;241m*\u001b[39mdata_to_wrap[\u001b[38;5;241m1\u001b[39m:],\n\u001b[1;32m    163\u001b[0m         )\n",
      "File \u001b[0;32m~/Documents/Coding_Projects/BA_Experiment_Tests/.venv/lib/python3.8/site-packages/grakel/kernels/weisfeiler_lehman.py:298\u001b[0m, in \u001b[0;36mWeisfeilerLehman.fit_transform\u001b[0;34m(self, X, y)\u001b[0m\n\u001b[1;32m    296\u001b[0m     \u001b[38;5;28;01mraise\u001b[39;00m \u001b[38;5;167;01mValueError\u001b[39;00m(\u001b[38;5;124m'\u001b[39m\u001b[38;5;124mtransform input cannot be None\u001b[39m\u001b[38;5;124m'\u001b[39m)\n\u001b[1;32m    297\u001b[0m \u001b[38;5;28;01melse\u001b[39;00m:\n\u001b[0;32m--> 298\u001b[0m     km, \u001b[38;5;28mself\u001b[39m\u001b[38;5;241m.\u001b[39mX \u001b[38;5;241m=\u001b[39m \u001b[38;5;28;43mself\u001b[39;49m\u001b[38;5;241;43m.\u001b[39;49m\u001b[43mparse_input\u001b[49m\u001b[43m(\u001b[49m\u001b[43mX\u001b[49m\u001b[43m)\u001b[49m\n\u001b[1;32m    300\u001b[0m \u001b[38;5;28mself\u001b[39m\u001b[38;5;241m.\u001b[39m_X_diag \u001b[38;5;241m=\u001b[39m np\u001b[38;5;241m.\u001b[39mdiagonal(km)\n\u001b[1;32m    301\u001b[0m \u001b[38;5;28;01mif\u001b[39;00m \u001b[38;5;28mself\u001b[39m\u001b[38;5;241m.\u001b[39mnormalize:\n",
      "File \u001b[0;32m~/Documents/Coding_Projects/BA_Experiment_Tests/.venv/lib/python3.8/site-packages/grakel/kernels/weisfeiler_lehman.py:162\u001b[0m, in \u001b[0;36mWeisfeilerLehman.parse_input\u001b[0;34m(self, X)\u001b[0m\n\u001b[1;32m    159\u001b[0m             extra \u001b[38;5;241m=\u001b[39m (x\u001b[38;5;241m.\u001b[39mget_labels(purpose\u001b[38;5;241m=\u001b[39m\u001b[38;5;28mself\u001b[39m\u001b[38;5;241m.\u001b[39m_graph_format,\n\u001b[1;32m    160\u001b[0m                                   label_type\u001b[38;5;241m=\u001b[39m\u001b[38;5;124m\"\u001b[39m\u001b[38;5;124medge\u001b[39m\u001b[38;5;124m\"\u001b[39m, return_none\u001b[38;5;241m=\u001b[39m\u001b[38;5;28;01mTrue\u001b[39;00m), ) \u001b[38;5;241m+\u001b[39m extra\n\u001b[1;32m    161\u001b[0m         \u001b[38;5;28;01melse\u001b[39;00m:\n\u001b[0;32m--> 162\u001b[0m             x \u001b[38;5;241m=\u001b[39m \u001b[43mGraph\u001b[49m\u001b[43m(\u001b[49m\u001b[43mx\u001b[49m\u001b[43m[\u001b[49m\u001b[38;5;241;43m0\u001b[39;49m\u001b[43m]\u001b[49m\u001b[43m,\u001b[49m\u001b[43m \u001b[49m\u001b[43mx\u001b[49m\u001b[43m[\u001b[49m\u001b[38;5;241;43m1\u001b[39;49m\u001b[43m]\u001b[49m\u001b[43m,\u001b[49m\u001b[43m \u001b[49m\u001b[43m{\u001b[49m\u001b[43m}\u001b[49m\u001b[43m,\u001b[49m\u001b[43m \u001b[49m\u001b[43mgraph_format\u001b[49m\u001b[38;5;241;43m=\u001b[39;49m\u001b[38;5;28;43mself\u001b[39;49m\u001b[38;5;241;43m.\u001b[39;49m\u001b[43m_graph_format\u001b[49m\u001b[43m)\u001b[49m\n\u001b[1;32m    163\u001b[0m             extra \u001b[38;5;241m=\u001b[39m \u001b[38;5;28mtuple\u001b[39m()\n\u001b[1;32m    165\u001b[0m \u001b[38;5;28;01melif\u001b[39;00m \u001b[38;5;28mtype\u001b[39m(x) \u001b[38;5;129;01mis\u001b[39;00m Graph:\n",
      "File \u001b[0;32m~/Documents/Coding_Projects/BA_Experiment_Tests/.venv/lib/python3.8/site-packages/grakel/graph.py:162\u001b[0m, in \u001b[0;36mGraph.__init__\u001b[0;34m(self, initialization_object, node_labels, edge_labels, graph_format, construct_labels)\u001b[0m\n\u001b[1;32m    160\u001b[0m \u001b[38;5;28mself\u001b[39m\u001b[38;5;241m.\u001b[39m_format \u001b[38;5;241m=\u001b[39m graph_format\n\u001b[1;32m    161\u001b[0m \u001b[38;5;28;01mif\u001b[39;00m (initialization_object \u001b[38;5;129;01mis\u001b[39;00m \u001b[38;5;129;01mnot\u001b[39;00m \u001b[38;5;28;01mNone\u001b[39;00m):\n\u001b[0;32m--> 162\u001b[0m     \u001b[38;5;28;43mself\u001b[39;49m\u001b[38;5;241;43m.\u001b[39;49m\u001b[43mbuild_graph\u001b[49m\u001b[43m(\u001b[49m\u001b[43minitialization_object\u001b[49m\u001b[43m,\u001b[49m\n\u001b[1;32m    163\u001b[0m \u001b[43m                     \u001b[49m\u001b[43mnode_labels\u001b[49m\u001b[43m,\u001b[49m\n\u001b[1;32m    164\u001b[0m \u001b[43m                     \u001b[49m\u001b[43medge_labels\u001b[49m\u001b[43m)\u001b[49m\n\u001b[1;32m    165\u001b[0m \u001b[38;5;28;01melif\u001b[39;00m graph_format \u001b[38;5;241m==\u001b[39m \u001b[38;5;124m\"\u001b[39m\u001b[38;5;124mauto\u001b[39m\u001b[38;5;124m\"\u001b[39m:\n\u001b[1;32m    166\u001b[0m     \u001b[38;5;28;01mraise\u001b[39;00m \u001b[38;5;167;01mValueError\u001b[39;00m(\u001b[38;5;124m'\u001b[39m\u001b[38;5;124mno initialization object \u001b[39m\u001b[38;5;124m'\u001b[39m \u001b[38;5;241m+\u001b[39m\n\u001b[1;32m    167\u001b[0m                      \u001b[38;5;124m'\u001b[39m\u001b[38;5;124m- format must not be auto\u001b[39m\u001b[38;5;124m'\u001b[39m)\n",
      "File \u001b[0;32m~/Documents/Coding_Projects/BA_Experiment_Tests/.venv/lib/python3.8/site-packages/grakel/graph.py:219\u001b[0m, in \u001b[0;36mGraph.build_graph\u001b[0;34m(self, g, node_labels, edge_labels)\u001b[0m\n\u001b[1;32m    217\u001b[0m             \u001b[38;5;28mself\u001b[39m\u001b[38;5;241m.\u001b[39m_format \u001b[38;5;241m=\u001b[39m \u001b[38;5;124m\"\u001b[39m\u001b[38;5;124mdictionary\u001b[39m\u001b[38;5;124m\"\u001b[39m\n\u001b[1;32m    218\u001b[0m     \u001b[38;5;28;01melse\u001b[39;00m:\n\u001b[0;32m--> 219\u001b[0m         \u001b[38;5;28;01mraise\u001b[39;00m \u001b[38;5;167;01mValueError\u001b[39;00m(\n\u001b[1;32m    220\u001b[0m             \u001b[38;5;124m'\u001b[39m\u001b[38;5;124mUnsupported input type. For more information \u001b[39m\u001b[38;5;124m'\u001b[39m \u001b[38;5;241m+\u001b[39m\n\u001b[1;32m    221\u001b[0m             \u001b[38;5;124m'\u001b[39m\u001b[38;5;124mcheck the documentation, concerning valid input \u001b[39m\u001b[38;5;124m'\u001b[39m \u001b[38;5;241m+\u001b[39m\n\u001b[1;32m    222\u001b[0m             \u001b[38;5;124m'\u001b[39m\u001b[38;5;124mtypes for graph type object.\u001b[39m\u001b[38;5;124m'\u001b[39m)\n\u001b[1;32m    224\u001b[0m \u001b[38;5;66;03m# If graph is of one type prune the other\u001b[39;00m\n\u001b[1;32m    225\u001b[0m \u001b[38;5;28;01mif\u001b[39;00m \u001b[38;5;28mself\u001b[39m\u001b[38;5;241m.\u001b[39m_format \u001b[38;5;241m==\u001b[39m \u001b[38;5;124m\"\u001b[39m\u001b[38;5;124madjacency\u001b[39m\u001b[38;5;124m\"\u001b[39m:\n",
      "\u001b[0;31mValueError\u001b[0m: Unsupported input type. For more information check the documentation, concerning valid input types for graph type object."
     ]
    }
   ],
   "source": [
    "\n",
    "\n",
    "# Example text \n",
    "#PROMPT: Generate a Story about love.\n",
    "#gpt3.5\n",
    "file_path1 = \"/Users/Vas/Documents/Coding_Projects/BA_Experiment_Tests/Metrics/sample1.txt\"\n",
    "#gpt4\n",
    "file_path2 = \"/Users/Vas/Documents/Coding_Projects/BA_Experiment_Tests/Metrics/sample2.txt\"\n",
    "\n",
    "with open(file_path1, 'r', encoding=\"utf-8\") as file:\n",
    "    sentences1 = file.read().split('.')\n",
    "    print(sentences1)\n",
    "with open(file_path2, 'r', encoding=\"utf-8\") as file:\n",
    "    sentences2 = file.read().split('.')\n",
    "\n",
    "graphs1 = construct_dependency_graphs(sentences1)\n",
    "graphs2 = construct_dependency_graphs(sentences2)\n",
    "\n",
    "syntactic_diversity1 = calculate_syntactic_diversity(graphs1)\n",
    "print(\"Syntactic diversity 1:\", syntactic_diversity1)\n",
    "\n",
    "# syntactic_diversity2 = calculate_syntactic_diversity(graphs2)\n",
    "# print(\"Syntactic diversity 2:\", syntactic_diversity2)\n"
   ]
  }
 ],
 "metadata": {
  "kernelspec": {
   "display_name": ".venv",
   "language": "python",
   "name": "python3"
  },
  "language_info": {
   "codemirror_mode": {
    "name": "ipython",
    "version": 3
   },
   "file_extension": ".py",
   "mimetype": "text/x-python",
   "name": "python",
   "nbconvert_exporter": "python",
   "pygments_lexer": "ipython3",
   "version": "3.8.2"
  }
 },
 "nbformat": 4,
 "nbformat_minor": 2
}
