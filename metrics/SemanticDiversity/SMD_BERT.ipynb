{
 "cells": [
  {
   "cell_type": "code",
   "execution_count": null,
   "metadata": {},
   "outputs": [],
   "source": []
  },
  {
   "cell_type": "markdown",
   "metadata": {},
   "source": [
    "## Semantic diversity\n",
    "\n",
    "According to recent studies (Tevet and Berant, 2021; Stasaski and Hearst, 2022), just lexical-level evaluation metrics often fail to capture semantic diversity, since texts including similar words can have different semantics and texts with different words can have similar semantics (Yarats and Lewis, 2018).\n",
    "\n",
    "We tackle this problem by transforming sentences into semantically meaningful sentence embeddings using Sentence-BERT (Reimers and Gurevych, 2019).\n",
    "\n",
    "We quantify semantic diversity as the dispersion of sentence embeddings over the semantic space. The dispersion is measured by either the average pairwise cosine-distance of all embedding vectors (D_sem_p) or the mean cosine distance of each embedding vector to the centroid\n",
    "(D_sem_c).\n"
   ]
  },
  {
   "cell_type": "code",
   "execution_count": 1,
   "metadata": {},
   "outputs": [
    {
     "name": "stderr",
     "output_type": "stream",
     "text": [
      "/Users/Vas/Documents/Coding_Projects/BA_Experiment_Tests/.venv/lib/python3.8/site-packages/urllib3/__init__.py:35: NotOpenSSLWarning: urllib3 v2 only supports OpenSSL 1.1.1+, currently the 'ssl' module is compiled with 'LibreSSL 2.8.3'. See: https://github.com/urllib3/urllib3/issues/3020\n",
      "  warnings.warn(\n",
      "/Users/Vas/Documents/Coding_Projects/BA_Experiment_Tests/.venv/lib/python3.8/site-packages/tqdm/auto.py:21: TqdmWarning: IProgress not found. Please update jupyter and ipywidgets. See https://ipywidgets.readthedocs.io/en/stable/user_install.html\n",
      "  from .autonotebook import tqdm as notebook_tqdm\n"
     ]
    }
   ],
   "source": [
    "from sentence_transformers import SentenceTransformer\n",
    "import numpy as np\n",
    "from scipy.spatial.distance import cosine\n",
    "\n",
    "def calculate_semantic_diversity(texts, measure='average'):\n",
    "    \"\"\"\n",
    "    Calculate semantic diversity for a set of texts.\n",
    "    \n",
    "    Parameters:\n",
    "    - texts (list of str): The set of texts to be evaluated.\n",
    "    - measure (str): Type of semantic diversity measure: 'average' for average pairwise distance,\n",
    "                     or 'centroid' for distance to centroid.\n",
    "                     \n",
    "    Returns:\n",
    "    - float: The semantic diversity score.\n",
    "    \"\"\"\n",
    "    # Load the pre-trained Sentence-BERT model\n",
    "    model = SentenceTransformer('all-MiniLM-L6-v2')\n",
    "    \n",
    "    # Convert texts into embeddings\n",
    "    embeddings = model.encode(texts)\n",
    "    \n",
    "    # Calculate semantic diversity based on the specified measure\n",
    "    if measure == 'average':\n",
    "        # Calculate average pairwise cosine distance\n",
    "        distances = []\n",
    "        for i in range(len(embeddings)):\n",
    "            for j in range(i + 1, len(embeddings)):\n",
    "                distance = cosine(embeddings[i], embeddings[j])\n",
    "                distances.append(distance)\n",
    "        semantic_diversity = np.mean(distances)\n",
    "    elif measure == 'centroid':\n",
    "        # Calculate mean cosine distance from each embedding to the centroid\n",
    "        centroid = np.mean(embeddings, axis=0)\n",
    "        distances = [cosine(embedding, centroid) for embedding in embeddings]\n",
    "        semantic_diversity = np.mean(distances)\n",
    "    else:\n",
    "        raise ValueError(\"Measure must be 'average' or 'centroid'\")\n",
    "    \n",
    "    return semantic_diversity\n"
   ]
  },
  {
   "cell_type": "code",
   "execution_count": 4,
   "metadata": {},
   "outputs": [
    {
     "name": "stdout",
     "output_type": "stream",
     "text": [
      "['Once upon a time, in a quaint little village nestled between rolling hills and whispering forests, there lived two souls destined for each other', ' Their names were Emily and Jack', ' Emily was a lively young woman with a heart as boundless as the open sky, while Jack was a gentle soul, with eyes that held the wisdom of ages', '\\n\\nTheir paths first crossed on a sunny afternoon in the village square', ' Emily had been selling her handcrafted jewelry at the weekly market, her creations shimmering in the sunlight like fragments of a rainbow', ' Jack, a painter by trade, was captivated by her vibrant spirit and the way she seemed to breathe life into the world around her', '\\n\\nAs weeks turned into months, their chance encounters at the market grew into intentional meetings', ' They shared stories and dreams beneath the shade of an ancient oak tree, their laughter mingling with the rustle of leaves in the breeze', ' With each passing day, their bond deepened, like the roots of the tree that bore witness to their blossoming love', '\\n\\nBut as fate would have it, their love was tested by the hands of adversity', ' A sudden illness befell Emily, casting a shadow over their once bright days', ' Jack stood by her side, his unwavering presence a beacon of hope in her darkest hour', ' Together, they weathered the storm, their love emerging stronger than ever before', '\\n\\nIn the wake of adversity, Emily and Jack made a solemn vow to cherish each moment they shared together', \" They danced in the rain, their laughter mingling with the melody of nature's symphony\", \" They watched the sunrise paint the sky in hues of pink and gold, grateful for the gift of another day in each other's arms\", '\\n\\nAs the seasons turned and the years passed, Emily and Jack remained steadfast in their love', ' They grew old together, their hands intertwined like roots entwined beneath the earth', ' And when the time came for them to part, they did so knowing that their love would endure for eternity, a timeless tale whispered on the lips of the wind', '\\n\\nFor in the village nestled between rolling hills and whispering forests, their love became a legend, a testament to the enduring power of the heart', ' And though they may have left this world behind, their love lived on, an eternal flame burning bright in the hearts of those who heard their story', '']\n",
      "Semantic diversity (average) Text 1: 0.7124224651959681\n",
      "Semantic diversity (average) Text 2: 0.7129789521448225\n",
      "Semantic diversity (centroid) Text 1: 0.43434960462830285\n",
      "Semantic diversity (centroid) Text 2: 0.4401538896339911\n"
     ]
    }
   ],
   "source": [
    "\n",
    "# Example text \n",
    "#PROMPT: Generate a Story about love.\n",
    "#gpt3.5\n",
    "file_path1 = \"/Users/Vas/Documents/Coding_Projects/BA_Experiment_Tests/Metrics/sample1.txt\"\n",
    "#gpt4\n",
    "file_path2 = \"/Users/Vas/Documents/Coding_Projects/BA_Experiment_Tests/Metrics/sample2.txt\"\n",
    "\n",
    "with open(file_path1, 'r', encoding=\"utf-8\") as file:\n",
    "    texts1 = file.read().split('.')\n",
    "    print(texts1)\n",
    "with open(file_path2, 'r', encoding=\"utf-8\") as file:\n",
    "    texts2 = file.read().split('.')\n",
    "\n",
    "\n",
    "print(\"Semantic diversity (average) Text 1:\", calculate_semantic_diversity(texts1, 'average'))\n",
    "print(\"Semantic diversity (average) Text 2:\", calculate_semantic_diversity(texts2, 'average'))\n",
    "\n",
    "print(\"Semantic diversity (centroid) Text 1:\", calculate_semantic_diversity(texts1, 'centroid'))\n",
    "print(\"Semantic diversity (centroid) Text 2:\", calculate_semantic_diversity(texts2, 'centroid'))\n"
   ]
  }
 ],
 "metadata": {
  "kernelspec": {
   "display_name": ".venv",
   "language": "python",
   "name": "python3"
  },
  "language_info": {
   "codemirror_mode": {
    "name": "ipython",
    "version": 3
   },
   "file_extension": ".py",
   "mimetype": "text/x-python",
   "name": "python",
   "nbconvert_exporter": "python",
   "pygments_lexer": "ipython3",
   "version": "3.8.2"
  }
 },
 "nbformat": 4,
 "nbformat_minor": 2
}
